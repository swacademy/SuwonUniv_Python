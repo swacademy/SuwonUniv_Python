{
 "cells": [
  {
   "cell_type": "code",
   "execution_count": null,
   "id": "f4033fe0-6013-4e08-9e67-7d8fd39136d3",
   "metadata": {},
   "outputs": [],
   "source": [
    "class Student : \n",
    "    def __init__(self, name, kor, eng, mat, edp) : \n",
    "        self._name = name\n",
    "        self._kor = kor\n",
    "        self._eng = eng\n",
    "        self._mat = mat\n",
    "        self._edp = edp\n",
    "        self._tot = 0\n",
    "        self._avg = 0.0\n",
    "        self._grade = 'F'\n",
    "\n",
    "    def __str__(self) : \n",
    "        return f'{self._name}\\t{self._kor}\\t{self._eng}\\t{self._mat}\\t{self._edp}\\t{self._tot}\\t{self._avg}\\t{self._grade}'\n",
    "    @property\n",
    "    def name(self) : return self._name\n",
    "    @property\n",
    "    def kor(self) : return self._kor\n",
    "    @property\n",
    "    def eng(self) : return self._eng\n",
    "    @property\n",
    "    def mat(self) : return self._mat\n",
    "    @property\n",
    "    def edp(self) : return self._edp\n",
    "    @property\n",
    "    def tot(self) : return self._tot\n",
    "    @property\n",
    "    def avg(self) : return self._avg\n",
    "    @property\n",
    "    def grade(self) : return self._grade\n",
    "\n",
    "    @tot.setter\n",
    "    def tot(self, tot) : self._tot = tot\n",
    "    @avg.setter\n",
    "    def avg(self, avg) : self._avg = avg\n",
    "    @grade.setter\n",
    "    def grade(self, grade) : self._grade = grade"
   ]
  }
 ],
 "metadata": {
  "kernelspec": {
   "display_name": "Python 3 (ipykernel)",
   "language": "python",
   "name": "python3"
  },
  "language_info": {
   "codemirror_mode": {
    "name": "ipython",
    "version": 3
   },
   "file_extension": ".py",
   "mimetype": "text/x-python",
   "name": "python",
   "nbconvert_exporter": "python",
   "pygments_lexer": "ipython3",
   "version": "3.13.2"
  }
 },
 "nbformat": 4,
 "nbformat_minor": 5
}
