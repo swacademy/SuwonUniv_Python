{
 "cells": [
  {
   "cell_type": "code",
   "execution_count": 1,
   "id": "9d2ff05e-cb7f-4294-a8e8-98a114a16e4f",
   "metadata": {},
   "outputs": [
    {
     "name": "stdout",
     "output_type": "stream",
     "text": [
      "Requirement already satisfied: nbconvert in ./lib/python3.13/site-packages (7.16.6)\n",
      "Requirement already satisfied: beautifulsoup4 in ./lib/python3.13/site-packages (from nbconvert) (4.13.4)\n",
      "Requirement already satisfied: bleach!=5.0.0 in ./lib/python3.13/site-packages (from bleach[css]!=5.0.0->nbconvert) (6.2.0)\n",
      "Requirement already satisfied: defusedxml in ./lib/python3.13/site-packages (from nbconvert) (0.7.1)\n",
      "Requirement already satisfied: jinja2>=3.0 in ./lib/python3.13/site-packages (from nbconvert) (3.1.6)\n",
      "Requirement already satisfied: jupyter-core>=4.7 in ./lib/python3.13/site-packages (from nbconvert) (5.8.1)\n",
      "Requirement already satisfied: jupyterlab-pygments in ./lib/python3.13/site-packages (from nbconvert) (0.3.0)\n",
      "Requirement already satisfied: markupsafe>=2.0 in ./lib/python3.13/site-packages (from nbconvert) (3.0.2)\n",
      "Requirement already satisfied: mistune<4,>=2.0.3 in ./lib/python3.13/site-packages (from nbconvert) (3.1.3)\n",
      "Requirement already satisfied: nbclient>=0.5.0 in ./lib/python3.13/site-packages (from nbconvert) (0.10.2)\n",
      "Requirement already satisfied: nbformat>=5.7 in ./lib/python3.13/site-packages (from nbconvert) (5.10.4)\n",
      "Requirement already satisfied: packaging in ./lib/python3.13/site-packages (from nbconvert) (25.0)\n",
      "Requirement already satisfied: pandocfilters>=1.4.1 in ./lib/python3.13/site-packages (from nbconvert) (1.5.1)\n",
      "Requirement already satisfied: pygments>=2.4.1 in ./lib/python3.13/site-packages (from nbconvert) (2.19.1)\n",
      "Requirement already satisfied: traitlets>=5.1 in ./lib/python3.13/site-packages (from nbconvert) (5.14.3)\n",
      "Requirement already satisfied: webencodings in ./lib/python3.13/site-packages (from bleach!=5.0.0->bleach[css]!=5.0.0->nbconvert) (0.5.1)\n",
      "Requirement already satisfied: tinycss2<1.5,>=1.1.0 in ./lib/python3.13/site-packages (from bleach[css]!=5.0.0->nbconvert) (1.4.0)\n",
      "Requirement already satisfied: platformdirs>=2.5 in ./lib/python3.13/site-packages (from jupyter-core>=4.7->nbconvert) (4.3.8)\n",
      "Requirement already satisfied: jupyter-client>=6.1.12 in ./lib/python3.13/site-packages (from nbclient>=0.5.0->nbconvert) (8.6.3)\n",
      "Requirement already satisfied: fastjsonschema>=2.15 in ./lib/python3.13/site-packages (from nbformat>=5.7->nbconvert) (2.21.1)\n",
      "Requirement already satisfied: jsonschema>=2.6 in ./lib/python3.13/site-packages (from nbformat>=5.7->nbconvert) (4.24.0)\n",
      "Requirement already satisfied: soupsieve>1.2 in ./lib/python3.13/site-packages (from beautifulsoup4->nbconvert) (2.7)\n",
      "Requirement already satisfied: typing-extensions>=4.0.0 in ./lib/python3.13/site-packages (from beautifulsoup4->nbconvert) (4.13.2)\n",
      "Requirement already satisfied: attrs>=22.2.0 in ./lib/python3.13/site-packages (from jsonschema>=2.6->nbformat>=5.7->nbconvert) (25.3.0)\n",
      "Requirement already satisfied: jsonschema-specifications>=2023.03.6 in ./lib/python3.13/site-packages (from jsonschema>=2.6->nbformat>=5.7->nbconvert) (2025.4.1)\n",
      "Requirement already satisfied: referencing>=0.28.4 in ./lib/python3.13/site-packages (from jsonschema>=2.6->nbformat>=5.7->nbconvert) (0.36.2)\n",
      "Requirement already satisfied: rpds-py>=0.7.1 in ./lib/python3.13/site-packages (from jsonschema>=2.6->nbformat>=5.7->nbconvert) (0.25.1)\n",
      "Requirement already satisfied: python-dateutil>=2.8.2 in ./lib/python3.13/site-packages (from jupyter-client>=6.1.12->nbclient>=0.5.0->nbconvert) (2.9.0.post0)\n",
      "Requirement already satisfied: pyzmq>=23.0 in ./lib/python3.13/site-packages (from jupyter-client>=6.1.12->nbclient>=0.5.0->nbconvert) (26.4.0)\n",
      "Requirement already satisfied: tornado>=6.2 in ./lib/python3.13/site-packages (from jupyter-client>=6.1.12->nbclient>=0.5.0->nbconvert) (6.5.1)\n",
      "Requirement already satisfied: six>=1.5 in ./lib/python3.13/site-packages (from python-dateutil>=2.8.2->jupyter-client>=6.1.12->nbclient>=0.5.0->nbconvert) (1.17.0)\n",
      "\n",
      "\u001b[1m[\u001b[0m\u001b[34;49mnotice\u001b[0m\u001b[1;39;49m]\u001b[0m\u001b[39;49m A new release of pip is available: \u001b[0m\u001b[31;49m25.0\u001b[0m\u001b[39;49m -> \u001b[0m\u001b[32;49m25.1.1\u001b[0m\n",
      "\u001b[1m[\u001b[0m\u001b[34;49mnotice\u001b[0m\u001b[1;39;49m]\u001b[0m\u001b[39;49m To update, run: \u001b[0m\u001b[32;49mpip install --upgrade pip\u001b[0m\n"
     ]
    }
   ],
   "source": [
    "!pip install nbconvert"
   ]
  },
  {
   "cell_type": "code",
   "execution_count": 1,
   "id": "5a388aaa-61b4-454b-a9b3-767661f75510",
   "metadata": {},
   "outputs": [
    {
     "name": "stdout",
     "output_type": "stream",
     "text": [
      "[NbConvertApp] Converting notebook calc.ipynb to script\n",
      "[NbConvertApp] Writing 372 bytes to calc.py\n",
      "[NbConvertApp] Converting notebook input.ipynb to script\n",
      "[NbConvertApp] Writing 328 bytes to input.py\n",
      "[NbConvertApp] Converting notebook main.ipynb to script\n",
      "[NbConvertApp] Writing 443 bytes to main.py\n",
      "[NbConvertApp] Converting notebook output.ipynb to script\n",
      "[NbConvertApp] Writing 87 bytes to output.py\n",
      "[NbConvertApp] Converting notebook student.ipynb to script\n",
      "[NbConvertApp] Writing 1060 bytes to student.py\n"
     ]
    }
   ],
   "source": [
    "!jupyter nbconvert --to script *.ipynb"
   ]
  },
  {
   "cell_type": "code",
   "execution_count": 2,
   "id": "f15ffd08-7742-4bea-9978-9bfe79f624b4",
   "metadata": {},
   "outputs": [],
   "source": [
    "from input import myInput\n",
    "from calc import myCalc\n",
    "from output import myOutput"
   ]
  },
  {
   "cell_type": "code",
   "execution_count": 3,
   "id": "6e139e47-1ab7-4760-bd0d-c42c3e655699",
   "metadata": {},
   "outputs": [
    {
     "name": "stdout",
     "output_type": "stream",
     "text": [
      "Program is Starting...\n"
     ]
    },
    {
     "name": "stdin",
     "output_type": "stream",
     "text": [
      "Name :  백두산\n",
      "Korean :  45\n",
      "English :  67\n",
      "Math :  89\n",
      "EDPS :  100\n"
     ]
    },
    {
     "name": "stdout",
     "output_type": "stream",
     "text": [
      "백두산\t45\t67\t89\t100\t301\t75.25\tC\n",
      "Program is Over...\n"
     ]
    }
   ],
   "source": [
    "if __name__ == '__main__' :\n",
    "    print('Program is Starting...')\n",
    "    std = myInput()\n",
    "    myCalc(std)\n",
    "    myOutput(std)\n",
    "    print('Program is Over...')"
   ]
  },
  {
   "cell_type": "code",
   "execution_count": null,
   "id": "a4a67bb0-9b3f-44c8-8155-efe28ae2682b",
   "metadata": {},
   "outputs": [],
   "source": []
  }
 ],
 "metadata": {
  "kernelspec": {
   "display_name": "Python 3 (ipykernel)",
   "language": "python",
   "name": "python3"
  },
  "language_info": {
   "codemirror_mode": {
    "name": "ipython",
    "version": 3
   },
   "file_extension": ".py",
   "mimetype": "text/x-python",
   "name": "python",
   "nbconvert_exporter": "python",
   "pygments_lexer": "ipython3",
   "version": "3.13.2"
  }
 },
 "nbformat": 4,
 "nbformat_minor": 5
}
