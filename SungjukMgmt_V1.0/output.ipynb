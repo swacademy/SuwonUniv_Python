{
 "cells": [
  {
   "cell_type": "code",
   "execution_count": null,
   "id": "d5edc832-48b7-420a-b2ed-4faf594cd6cd",
   "metadata": {},
   "outputs": [],
   "source": [
    "def myOutput(std) : \n",
    "    print(std)"
   ]
  }
 ],
 "metadata": {
  "kernelspec": {
   "display_name": "Python 3 (ipykernel)",
   "language": "python",
   "name": "python3"
  },
  "language_info": {
   "codemirror_mode": {
    "name": "ipython",
    "version": 3
   },
   "file_extension": ".py",
   "mimetype": "text/x-python",
   "name": "python",
   "nbconvert_exporter": "python",
   "pygments_lexer": "ipython3",
   "version": "3.13.2"
  }
 },
 "nbformat": 4,
 "nbformat_minor": 5
}
