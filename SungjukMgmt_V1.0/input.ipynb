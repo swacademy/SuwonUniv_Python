{
 "cells": [
  {
   "cell_type": "code",
   "execution_count": null,
   "id": "87521f44-d891-409e-ac87-8dff81034a4a",
   "metadata": {},
   "outputs": [],
   "source": [
    "from student import Student"
   ]
  },
  {
   "cell_type": "code",
   "execution_count": null,
   "id": "50b2e7e8-af68-4eee-a7ce-93584435a486",
   "metadata": {},
   "outputs": [],
   "source": [
    "def myInput() :\n",
    "    name = input('Name : ')\n",
    "    kor = int(input('Korean : '))\n",
    "    eng = int(input('English : '))\n",
    "    mat = int(input('Math : '))\n",
    "    edp = int(input('EDPS : '))\n",
    "    std = Student(name, kor, eng, mat, edp)\n",
    "    return std"
   ]
  }
 ],
 "metadata": {
  "kernelspec": {
   "display_name": "Python 3 (ipykernel)",
   "language": "python",
   "name": "python3"
  },
  "language_info": {
   "codemirror_mode": {
    "name": "ipython",
    "version": 3
   },
   "file_extension": ".py",
   "mimetype": "text/x-python",
   "name": "python",
   "nbconvert_exporter": "python",
   "pygments_lexer": "ipython3",
   "version": "3.13.2"
  }
 },
 "nbformat": 4,
 "nbformat_minor": 5
}
