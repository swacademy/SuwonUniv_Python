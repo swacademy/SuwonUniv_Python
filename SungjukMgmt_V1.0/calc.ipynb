{
 "cells": [
  {
   "cell_type": "code",
   "execution_count": null,
   "id": "0cbd0e36-97db-4bc5-8762-d2f708435d57",
   "metadata": {},
   "outputs": [],
   "source": [
    "def myCalc(std) :\n",
    "    tot = std.kor + std.eng + std.mat + std.edp\n",
    "    avg = round(tot / 4, 2)\n",
    "    grade= None\n",
    "    if avg >= 90 : grade = 'A'\n",
    "    elif avg >= 80 : grade = 'B'\n",
    "    elif avg >= 70 : grade = 'C'\n",
    "    elif avg >= 60 : grade = 'D'\n",
    "    else : grade = 'F'\n",
    "    std.tot = tot\n",
    "    std.avg = avg\n",
    "    std.grade = grade"
   ]
  }
 ],
 "metadata": {
  "kernelspec": {
   "display_name": "Python 3 (ipykernel)",
   "language": "python",
   "name": "python3"
  },
  "language_info": {
   "codemirror_mode": {
    "name": "ipython",
    "version": 3
   },
   "file_extension": ".py",
   "mimetype": "text/x-python",
   "name": "python",
   "nbconvert_exporter": "python",
   "pygments_lexer": "ipython3",
   "version": "3.13.2"
  }
 },
 "nbformat": 4,
 "nbformat_minor": 5
}
